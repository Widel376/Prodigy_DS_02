{
 "cells": [
  {
   "cell_type": "code",
   "execution_count": null,
   "id": "4a85d1e4",
   "metadata": {},
   "outputs": [],
   "source": [
    "import pandas as pd\n",
    "import seaborn as sns\n",
    "import matplotlib.pyplot as plt\n",
    "\n",
    "data = pd.read_csv('gender_submission.csv')\n",
    "\n",
    "print(data.head())\n",
    "\n",
    "\n",
    "print(data.isnull())\n",
    "\n",
    "print(data.info())\n",
    "\n",
    "\n",
    "print(data.describe())\n",
    "\n",
    "# Survival count\n",
    "sns.countplot(x='Survived', data=data)\n",
    "plt.title('Survival Count')\n",
    "plt.show()\n",
    "\n",
    "# Heatmap\n",
    "plt.figure(figsize=(9, 6))  \n",
    "sns.heatmap(data.corr(), annot=True, cmap='coolwarm')  \n",
    "plt.show()  \n"
   ]
  },
  {
   "cell_type": "code",
   "execution_count": null,
   "id": "88cdafe8",
   "metadata": {},
   "outputs": [],
   "source": [
    "import pandas as pd\n",
    "import seaborn as sns\n",
    "import matplotlib.pyplot as plt\n",
    "\n",
    "# Load the dataset\n",
    "titanic_df = pd.read_csv('train.csv')\n",
    "print(titanic_df.head())\n",
    "\n",
    "print(titanic_df.info())\n",
    "\n",
    "# Summary statistics\n",
    "print(titanic_df.describe())\n",
    "\n",
    "# Visualize survival count\n",
    "sns.countplot(x='Survived', data=titanic_df)\n",
    "plt.title('Survival Count')\n",
    "plt.show()\n"
   ]
  },
  {
   "cell_type": "code",
   "execution_count": null,
   "id": "76fd83b7",
   "metadata": {},
   "outputs": [],
   "source": []
  },
  {
   "cell_type": "code",
   "execution_count": null,
   "id": "4c82c55d",
   "metadata": {},
   "outputs": [],
   "source": []
  }
 ],
 "metadata": {
  "kernelspec": {
   "display_name": "Python 3 (ipykernel)",
   "language": "python",
   "name": "python3"
  },
  "language_info": {
   "codemirror_mode": {
    "name": "ipython",
    "version": 3
   },
   "file_extension": ".py",
   "mimetype": "text/x-python",
   "name": "python",
   "nbconvert_exporter": "python",
   "pygments_lexer": "ipython3",
   "version": "3.9.13"
  }
 },
 "nbformat": 4,
 "nbformat_minor": 5
}
